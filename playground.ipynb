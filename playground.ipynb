{
 "cells": [
  {
   "cell_type": "code",
   "execution_count": 1,
   "metadata": {},
   "outputs": [],
   "source": [
    "import pandas as pd\n",
    "import requests as rq\n",
    "import transfertmarkt_scraping.webscraping as FootApi"
   ]
  },
  {
   "cell_type": "code",
   "execution_count": 2,
   "metadata": {},
   "outputs": [],
   "source": [
    "Liga= FootApi.getLigues()"
   ]
  },
  {
   "cell_type": "code",
   "execution_count": 3,
   "metadata": {},
   "outputs": [
    {
     "data": {
      "text/plain": [
       "[<transfertmarkt_scraping.webscraping.Ligue at 0x7f977b541a90>,\n",
       " <transfertmarkt_scraping.webscraping.Ligue at 0x7f977b416ef0>,\n",
       " <transfertmarkt_scraping.webscraping.Ligue at 0x7f977925e940>,\n",
       " <transfertmarkt_scraping.webscraping.Ligue at 0x7f977b889dd8>,\n",
       " <transfertmarkt_scraping.webscraping.Ligue at 0x7f977b889eb8>,\n",
       " <transfertmarkt_scraping.webscraping.Ligue at 0x7f977b889f28>,\n",
       " <transfertmarkt_scraping.webscraping.Ligue at 0x7f977b889ef0>,\n",
       " <transfertmarkt_scraping.webscraping.Ligue at 0x7f977b889e80>,\n",
       " <transfertmarkt_scraping.webscraping.Ligue at 0x7f977b889d68>,\n",
       " <transfertmarkt_scraping.webscraping.Ligue at 0x7f977b889e10>,\n",
       " <transfertmarkt_scraping.webscraping.Ligue at 0x7f977b889f98>,\n",
       " <transfertmarkt_scraping.webscraping.Ligue at 0x7f977b889fd0>,\n",
       " <transfertmarkt_scraping.webscraping.Ligue at 0x7f977b889e48>,\n",
       " <transfertmarkt_scraping.webscraping.Ligue at 0x7f977b889f60>,\n",
       " <transfertmarkt_scraping.webscraping.Ligue at 0x7f977b8912b0>,\n",
       " <transfertmarkt_scraping.webscraping.Ligue at 0x7f977b89e828>,\n",
       " <transfertmarkt_scraping.webscraping.Ligue at 0x7f977b89e438>,\n",
       " <transfertmarkt_scraping.webscraping.Ligue at 0x7f977b89e710>,\n",
       " <transfertmarkt_scraping.webscraping.Ligue at 0x7f977b89e128>,\n",
       " <transfertmarkt_scraping.webscraping.Ligue at 0x7f977b4aeeb8>,\n",
       " <transfertmarkt_scraping.webscraping.Ligue at 0x7f977b89e470>,\n",
       " <transfertmarkt_scraping.webscraping.Ligue at 0x7f977b89e1d0>,\n",
       " <transfertmarkt_scraping.webscraping.Ligue at 0x7f977b89ed30>,\n",
       " <transfertmarkt_scraping.webscraping.Ligue at 0x7f977b89e6d8>,\n",
       " <transfertmarkt_scraping.webscraping.Ligue at 0x7f977b89e8d0>]"
      ]
     },
     "execution_count": 3,
     "metadata": {},
     "output_type": "execute_result"
    }
   ],
   "source": [
    "Liga"
   ]
  },
  {
   "cell_type": "code",
   "execution_count": 4,
   "metadata": {},
   "outputs": [],
   "source": [
    "# ligues = getLigues()\n",
    "# \n",
    "# print(\" *** Recherche des clubs *** \")\n",
    "# clubs = []\n",
    "# A = 0\n",
    "# for i in ligues:\n",
    "# \tA+=1\n",
    "# \tclubs = clubs + getClubs(i)\n",
    "# \tprint(str(A) + \" / \" + str(len(ligues)))\n",
    "# \n",
    "# print(\" *** Recherche des joueurs *** \")\n",
    "# players = []\n",
    "# A = 0\t\n",
    "# for i in clubs:\n",
    "# \tA+= 1\n",
    "# \ti.save()\n",
    "# \ttmp = getPlayers(i)\n",
    "# \tfor j in tmp:\n",
    "# \t\tplayers.append(j)\n",
    "# \t\tj.save()\n",
    "# \tprint(\"État d'avancement : \" + str(A) + \" / \" + str(len(clubs)))"
   ]
  },
  {
   "cell_type": "code",
   "execution_count": 5,
   "metadata": {},
   "outputs": [
    {
     "name": "stdout",
     "output_type": "stream",
     "text": [
      "1/25\n",
      "2/25\n",
      "3/25\n",
      "4/25\n",
      "5/25\n",
      "6/25\n",
      "7/25\n",
      "8/25\n",
      "9/25\n",
      "10/25\n",
      "11/25\n",
      "12/25\n",
      "13/25\n",
      "14/25\n",
      "15/25\n",
      "16/25\n",
      "17/25\n",
      "18/25\n",
      "19/25\n",
      "20/25\n",
      "21/25\n",
      "22/25\n",
      "23/25\n",
      "24/25\n",
      "25/25\n"
     ]
    }
   ],
   "source": [
    "clubs = []\n",
    "i=0\n",
    "for l in Liga:\n",
    "    i+=1\n",
    "    clubs = clubs + FootApi.getClubs(l)\n",
    "    print( str(i) + \"/\" + str(len(Liga)) )\n",
    "    "
   ]
  },
  {
   "cell_type": "code",
   "execution_count": 6,
   "metadata": {},
   "outputs": [
    {
     "name": "stdout",
     "output_type": "stream",
     "text": [
      "Looking for Players in each clubs\n"
     ]
    },
    {
     "ename": "NameError",
     "evalue": "name 'strring' is not defined",
     "output_type": "error",
     "traceback": [
      "\u001b[0;31m---------------------------------------------------------------------------\u001b[0m",
      "\u001b[0;31mNameError\u001b[0m                                 Traceback (most recent call last)",
      "\u001b[0;32m<ipython-input-6-417dcc874f57>\u001b[0m in \u001b[0;36m<module>\u001b[0;34m\u001b[0m\n\u001b[1;32m      5\u001b[0m \u001b[0;32mfor\u001b[0m \u001b[0mc\u001b[0m \u001b[0;32min\u001b[0m \u001b[0mclubs\u001b[0m\u001b[0;34m:\u001b[0m\u001b[0;34m\u001b[0m\u001b[0;34m\u001b[0m\u001b[0m\n\u001b[1;32m      6\u001b[0m     \u001b[0mi\u001b[0m\u001b[0;34m+=\u001b[0m\u001b[0;36m1\u001b[0m\u001b[0;34m\u001b[0m\u001b[0;34m\u001b[0m\u001b[0m\n\u001b[0;32m----> 7\u001b[0;31m     \u001b[0mc\u001b[0m\u001b[0;34m.\u001b[0m\u001b[0msave\u001b[0m\u001b[0;34m(\u001b[0m\u001b[0;34m)\u001b[0m\u001b[0;34m\u001b[0m\u001b[0;34m\u001b[0m\u001b[0m\n\u001b[0m\u001b[1;32m      8\u001b[0m     \u001b[0mteam\u001b[0m \u001b[0;34m=\u001b[0m \u001b[0mFootApi\u001b[0m\u001b[0;34m.\u001b[0m\u001b[0mgetPlayers\u001b[0m\u001b[0;34m(\u001b[0m\u001b[0mc\u001b[0m\u001b[0;34m)\u001b[0m\u001b[0;34m\u001b[0m\u001b[0;34m\u001b[0m\u001b[0m\n\u001b[1;32m      9\u001b[0m     \u001b[0;32mfor\u001b[0m \u001b[0mplayer\u001b[0m \u001b[0;32min\u001b[0m \u001b[0mteam\u001b[0m\u001b[0;34m:\u001b[0m\u001b[0;34m\u001b[0m\u001b[0;34m\u001b[0m\u001b[0m\n",
      "\u001b[0;32m~/Documents/Transfert mark/transfertmarkt_scraping/webscraping.py\u001b[0m in \u001b[0;36msave\u001b[0;34m(self)\u001b[0m\n\u001b[1;32m     28\u001b[0m                 \u001b[0msoup\u001b[0m \u001b[0;34m=\u001b[0m \u001b[0mBeautifulSoup\u001b[0m\u001b[0;34m(\u001b[0m\u001b[0mself\u001b[0m\u001b[0;34m.\u001b[0m\u001b[0mhtml\u001b[0m\u001b[0;34m,\u001b[0m\u001b[0mfeatures\u001b[0m\u001b[0;34m=\u001b[0m\u001b[0;34m'html.parser'\u001b[0m\u001b[0;34m)\u001b[0m\u001b[0;34m\u001b[0m\u001b[0;34m\u001b[0m\u001b[0m\n\u001b[1;32m     29\u001b[0m                 \u001b[0mtitre\u001b[0m \u001b[0;34m=\u001b[0m \u001b[0msoup\u001b[0m\u001b[0;34m.\u001b[0m\u001b[0mfind\u001b[0m\u001b[0;34m(\u001b[0m\u001b[0;34m\"title\"\u001b[0m\u001b[0;34m)\u001b[0m\u001b[0;34m.\u001b[0m\u001b[0mtext\u001b[0m\u001b[0;34m\u001b[0m\u001b[0;34m\u001b[0m\u001b[0m\n\u001b[0;32m---> 30\u001b[0;31m                 \u001b[0ma\u001b[0m \u001b[0;34m=\u001b[0m \u001b[0mopen\u001b[0m\u001b[0;34m(\u001b[0m\u001b[0;34m\"transfertmarkt_scraping/clubs/\"\u001b[0m \u001b[0;34m+\u001b[0m \u001b[0mnettoyer\u001b[0m\u001b[0;34m(\u001b[0m\u001b[0mtitre\u001b[0m\u001b[0;34m.\u001b[0m\u001b[0msplit\u001b[0m\u001b[0;34m(\u001b[0m\u001b[0;34m' -'\u001b[0m\u001b[0;34m)\u001b[0m\u001b[0;34m[\u001b[0m\u001b[0;36m0\u001b[0m\u001b[0;34m]\u001b[0m\u001b[0;34m)\u001b[0m \u001b[0;34m+\u001b[0m \u001b[0;34m\".html\"\u001b[0m\u001b[0;34m,\u001b[0m\u001b[0;34m\"wb\"\u001b[0m\u001b[0;34m)\u001b[0m\u001b[0;34m\u001b[0m\u001b[0;34m\u001b[0m\u001b[0m\n\u001b[0m\u001b[1;32m     31\u001b[0m                 \u001b[0ma\u001b[0m\u001b[0;34m.\u001b[0m\u001b[0mwrite\u001b[0m\u001b[0;34m(\u001b[0m\u001b[0mself\u001b[0m\u001b[0;34m.\u001b[0m\u001b[0mhtml\u001b[0m\u001b[0;34m)\u001b[0m\u001b[0;34m\u001b[0m\u001b[0;34m\u001b[0m\u001b[0m\n\u001b[1;32m     32\u001b[0m                 \u001b[0ma\u001b[0m\u001b[0;34m.\u001b[0m\u001b[0mclose\u001b[0m\u001b[0;34m(\u001b[0m\u001b[0;34m)\u001b[0m\u001b[0;34m\u001b[0m\u001b[0;34m\u001b[0m\u001b[0m\n",
      "\u001b[0;32m~/Documents/Transfert mark/transfertmarkt_scraping/webscraping.py\u001b[0m in \u001b[0;36mnettoyer\u001b[0;34m(x)\u001b[0m\n\u001b[1;32m    141\u001b[0m \u001b[0;32mdef\u001b[0m \u001b[0mnettoyer\u001b[0m\u001b[0;34m(\u001b[0m\u001b[0mx\u001b[0m\u001b[0;34m)\u001b[0m\u001b[0;34m:\u001b[0m\u001b[0;34m\u001b[0m\u001b[0;34m\u001b[0m\u001b[0m\n\u001b[1;32m    142\u001b[0m         \u001b[0mtextToClean\u001b[0m \u001b[0;34m=\u001b[0m \u001b[0mx\u001b[0m\u001b[0;34m.\u001b[0m\u001b[0mreplace\u001b[0m\u001b[0;34m(\u001b[0m\u001b[0;34m\"\\n\"\u001b[0m\u001b[0;34m,\u001b[0m\u001b[0;34m\"\"\u001b[0m\u001b[0;34m)\u001b[0m\u001b[0;34m.\u001b[0m\u001b[0mreplace\u001b[0m\u001b[0;34m(\u001b[0m\u001b[0;34m\"\\t\"\u001b[0m\u001b[0;34m,\u001b[0m\u001b[0;34m\"\"\u001b[0m\u001b[0;34m)\u001b[0m\u001b[0;34m.\u001b[0m\u001b[0mreplace\u001b[0m\u001b[0;34m(\u001b[0m\u001b[0;34m\"\\r\"\u001b[0m\u001b[0;34m,\u001b[0m\u001b[0;34m\"\"\u001b[0m\u001b[0;34m)\u001b[0m\u001b[0;34m.\u001b[0m\u001b[0mreplace\u001b[0m\u001b[0;34m(\u001b[0m\u001b[0;34m\"\\xa0\"\u001b[0m\u001b[0;34m,\u001b[0m\u001b[0;34m\"\"\u001b[0m\u001b[0;34m)\u001b[0m\u001b[0;34m\u001b[0m\u001b[0;34m\u001b[0m\u001b[0m\n\u001b[0;32m--> 143\u001b[0;31m         \u001b[0mtextToClean\u001b[0m \u001b[0;34m=\u001b[0m \u001b[0mtextToClean\u001b[0m\u001b[0;34m.\u001b[0m\u001b[0mtranslate\u001b[0m\u001b[0;34m(\u001b[0m\u001b[0mstrring\u001b[0m\u001b[0;34m.\u001b[0m\u001b[0mmakettrans\u001b[0m\u001b[0;34m(\u001b[0m\u001b[0;34m\"\"\u001b[0m\u001b[0;34m,\u001b[0m\u001b[0;34m\"\"\u001b[0m\u001b[0;34m)\u001b[0m\u001b[0;34m,\u001b[0m\u001b[0mstring\u001b[0m\u001b[0;34m.\u001b[0m\u001b[0mponctuation\u001b[0m\u001b[0;34m)\u001b[0m\u001b[0;34m\u001b[0m\u001b[0;34m\u001b[0m\u001b[0m\n\u001b[0m\u001b[1;32m    144\u001b[0m         \u001b[0;32mreturn\u001b[0m \u001b[0mtextToclean\u001b[0m\u001b[0;34m\u001b[0m\u001b[0;34m\u001b[0m\u001b[0m\n\u001b[1;32m    145\u001b[0m \u001b[0;34m\u001b[0m\u001b[0m\n",
      "\u001b[0;31mNameError\u001b[0m: name 'strring' is not defined"
     ]
    }
   ],
   "source": [
    "print(\"Looking for Players in each clubs\")\n",
    "\n",
    "Players = []\n",
    "i=0\n",
    "for c in clubs:\n",
    "    i+=1\n",
    "    c.save()\n",
    "    team = FootApi.getPlayers(c)\n",
    "    for player in team:\n",
    "        player.save()\n",
    "        Players.append(player)\n",
    "    print(\"club \"+ str(i) + \"/\"+ str(len(clubs)))"
   ]
  },
  {
   "cell_type": "code",
   "execution_count": null,
   "metadata": {},
   "outputs": [],
   "source": [
    "FootApi.extract_all_player_data()"
   ]
  },
  {
   "cell_type": "code",
   "execution_count": null,
   "metadata": {},
   "outputs": [],
   "source": []
  }
 ],
 "metadata": {
  "kernelspec": {
   "display_name": "Python 3",
   "language": "python",
   "name": "python3"
  },
  "language_info": {
   "codemirror_mode": {
    "name": "ipython",
    "version": 3
   },
   "file_extension": ".py",
   "mimetype": "text/x-python",
   "name": "python",
   "nbconvert_exporter": "python",
   "pygments_lexer": "ipython3",
   "version": "3.7.3"
  }
 },
 "nbformat": 4,
 "nbformat_minor": 4
}
